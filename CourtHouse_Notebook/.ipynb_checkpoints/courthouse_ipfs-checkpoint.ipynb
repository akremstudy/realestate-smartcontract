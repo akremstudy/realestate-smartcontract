{
 "cells": [
  {
   "cell_type": "code",
   "execution_count": 2,
   "metadata": {},
   "outputs": [
    {
     "data": {
      "text/plain": [
       "True"
      ]
     },
     "execution_count": 2,
     "metadata": {},
     "output_type": "execute_result"
    }
   ],
   "source": [
    "import requests\n",
    "import json\n",
    "import os\n",
    "\n",
    "from dotenv import load_dotenv\n",
    "from pathlib import Path\n",
    "\n",
    "from web3.auto import w3\n",
    "load_dotenv()"
   ]
  },
  {
   "cell_type": "code",
   "execution_count": 3,
   "metadata": {},
   "outputs": [],
   "source": [
    "headers = {\n",
    "    \"Content-Type\": \"application/json\",\n",
    "    \"pinata_api_key\": os.getenv(\"PINATA_API_KEY\"),\n",
    "    \"pinata_secret_api_key\": os.getenv(\"PINATA_SECRET_API_KEY\"),\n",
    "}"
   ]
  },
  {
   "cell_type": "code",
   "execution_count": 4,
   "metadata": {},
   "outputs": [],
   "source": [
    "def initContract():\n",
    "    with open(Path(\"courthouse.json\")) as json_file:\n",
    "        abi = json.load(json_file)\n",
    "\n",
    "    return w3.eth.contract(address=os.getenv(\"0x853152C15Be5e0E52b8FA1b435022928485A16dD\"), abi=abi)"
   ]
  },
  {
   "cell_type": "code",
   "execution_count": 5,
   "metadata": {},
   "outputs": [],
   "source": [
    "def convertDataToJSON(address, square_footage, build_date,property_type):\n",
    "    data = {\n",
    "        \"pinataOptions\": {\"cidVersion\": 1},\n",
    "        \"pinataContent\": {\n",
    "            \"PROPERTY_ADDRESS\": address,\n",
    "            \"SQ.FT\": square_footage,\n",
    "            \"BUILD_DATE\": build_date,\n",
    "            \"TYPE\": property_type,\n",
    "        },\n",
    "    }\n",
    "    return json.dumps(data)"
   ]
  },
  {
   "cell_type": "code",
   "execution_count": 6,
   "metadata": {},
   "outputs": [],
   "source": [
    "def pinJSONtoIPFS(json):\n",
    "    r = requests.post(\n",
    "        \"https://api.pinata.cloud/pinning/pinJSONToIPFS\", data=json, headers=headers\n",
    "    )\n",
    "    ipfs_hash = r.json()[\"IpfsHash\"]\n",
    "    return f\"ipfs://{ipfs_hash}\""
   ]
  },
  {
   "cell_type": "code",
   "execution_count": 7,
   "metadata": {},
   "outputs": [],
   "source": [
    "def generateIPFS_uri():\n",
    "    property_address = input(\"What is the address?: \")\n",
    "    property_size = input(\"What is the square footage?: \")\n",
    "    property_age = input(\"When was the property built?: \")\n",
    "    property_type = input(\"Enter legal description of property: \")\n",
    "\n",
    "    json_data = convertDataToJSON(property_address,\n",
    "                                property_size,\n",
    "                                property_age,\n",
    "                                property_type)\n",
    "    uri = pinJSONtoIPFS(json_data)\n",
    "\n",
    "    return uri"
   ]
  },
  {
   "cell_type": "code",
   "execution_count": 8,
   "metadata": {},
   "outputs": [],
   "source": [
    "courthouse = initContract()"
   ]
  },
  {
   "cell_type": "code",
   "execution_count": 9,
   "metadata": {},
   "outputs": [],
   "source": [
    "def tokenize_property():\n",
    "    owner_wallet_address = input(\"Token holders wallet address: \")\n",
    "    property_address = input(\"What is the address?: \")\n",
    "    property_type = input(\"Enter legal description of property: \")\n",
    "    property_size = input(\"What is the square footage?: \")\n",
    "    property_age = input(\"When was the property built?: \")\n",
    "    property_last_price = 0\n",
    "    json_data = convertDataToJSON(property_address,\n",
    "                                property_size,\n",
    "                                property_age,\n",
    "                                property_type)\n",
    "    uri = pinJSONtoIPFS(json_data)\n",
    "    tx_hash = courthouse.functions.tokenizeProperty(owner_wallet_address, property_address, property_type, property_last_price, uri).transact(\n",
    "        {\"from\": w3.eth.accounts[2]}\n",
    "    )\n",
    "    receipt = w3.eth.waitForTransactionReceipt(tx_hash)\n",
    "    \n",
    "    print(uri)\n",
    "    return receipt"
   ]
  },
  {
   "cell_type": "code",
   "execution_count": 17,
   "metadata": {},
   "outputs": [
    {
     "name": "stdin",
     "output_type": "stream",
     "text": [
      "Token holders wallet address:  0x4BdeF3b33E129d623D306a87468D949e5c7B4645\n",
      "What is the address?:  123 main\n",
      "Enter legal description of property:  single\n",
      "What is the square footage?:  300\n",
      "When was the property built?:  1989\n"
     ]
    },
    {
     "name": "stdout",
     "output_type": "stream",
     "text": [
      "ipfs://bafkreicwkgs2y6zfgrlw3wrqhhnbgzriv3h7th3czxfzrexnchyiohjqfu\n"
     ]
    }
   ],
   "source": [
    "token = tokenize_property()"
   ]
  },
  {
   "cell_type": "code",
   "execution_count": 18,
   "metadata": {},
   "outputs": [
    {
     "data": {
      "text/plain": [
       "AttributeDict({'transactionHash': HexBytes('0xb8744d622abd50343d6691632aa9c499dc06864a5422db3b647faaa0ca154792'),\n",
       " 'transactionIndex': 0,\n",
       " 'blockHash': HexBytes('0xfeb7cc4e775719442431458be176b71a75f45a7aebda36ba03aab64e4198eb56'),\n",
       " 'blockNumber': 323,\n",
       " 'from': '0x77d959E069A5Ab69BdA377C6499B6EAfee165D10',\n",
       " 'to': '0x853152C15Be5e0E52b8FA1b435022928485A16dD',\n",
       " 'gasUsed': 410533,\n",
       " 'cumulativeGasUsed': 410533,\n",
       " 'contractAddress': None,\n",
       " 'logs': [AttributeDict({'logIndex': 0,\n",
       "   'transactionIndex': 0,\n",
       "   'transactionHash': HexBytes('0xb8744d622abd50343d6691632aa9c499dc06864a5422db3b647faaa0ca154792'),\n",
       "   'blockHash': HexBytes('0xfeb7cc4e775719442431458be176b71a75f45a7aebda36ba03aab64e4198eb56'),\n",
       "   'blockNumber': 323,\n",
       "   'address': '0x853152C15Be5e0E52b8FA1b435022928485A16dD',\n",
       "   'data': '0x',\n",
       "   'topics': [HexBytes('0xddf252ad1be2c89b69c2b068fc378daa952ba7f163c4a11628f55a4df523b3ef'),\n",
       "    HexBytes('0x0000000000000000000000000000000000000000000000000000000000000000'),\n",
       "    HexBytes('0x00000000000000000000000077d959e069a5ab69bda377c6499b6eafee165d10'),\n",
       "    HexBytes('0x000000000000000000000000000000000000000000000000000000000000000b')],\n",
       "   'type': 'mined'})],\n",
       " 'status': 1,\n",
       " 'logsBloom': HexBytes('0x00000000000000000000004000000000000000000000000000000000000000000000000000000000000000000000000000000000000000000000000000000000000000000000000800000008000000000000000008800000000000000000000000000000020000000000001000000800000000000000000000000010000000000000000000000000000000000000000000000000000000000000000000000000000000000000000000000000000000000000000000000000000000000000000000000002000000000000000000000010002000000000000000000000000020000000000000000000000000000000000000000000000000040000001000000000')})"
      ]
     },
     "execution_count": 18,
     "metadata": {},
     "output_type": "execute_result"
    }
   ],
   "source": [
    "token"
   ]
  },
  {
   "cell_type": "code",
   "execution_count": null,
   "metadata": {},
   "outputs": [],
   "source": []
  }
 ],
 "metadata": {
  "kernelspec": {
   "display_name": "Python 3",
   "language": "python",
   "name": "python3"
  },
  "language_info": {
   "codemirror_mode": {
    "name": "ipython",
    "version": 3
   },
   "file_extension": ".py",
   "mimetype": "text/x-python",
   "name": "python",
   "nbconvert_exporter": "python",
   "pygments_lexer": "ipython3",
   "version": "3.7.9"
  }
 },
 "nbformat": 4,
 "nbformat_minor": 4
}
